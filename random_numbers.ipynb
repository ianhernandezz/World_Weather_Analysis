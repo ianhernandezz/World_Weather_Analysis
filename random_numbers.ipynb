{
 "cells": [
  {
   "cell_type": "code",
   "execution_count": 4,
   "id": "35b50983-c7ee-40d4-bb73-469b6f88ec46",
   "metadata": {},
   "outputs": [],
   "source": [
    "# Import the random module.\n",
    "import random"
   ]
  },
  {
   "cell_type": "code",
   "execution_count": 6,
   "id": "9420bf4c-f5b0-44be-bd97-dce653f377d9",
   "metadata": {},
   "outputs": [
    {
     "data": {
      "text/plain": [
       "0.3570753576911544"
      ]
     },
     "execution_count": 6,
     "metadata": {},
     "output_type": "execute_result"
    }
   ],
   "source": [
    "random.random()"
   ]
  },
  {
   "cell_type": "code",
   "execution_count": 9,
   "id": "694d54d4-4d0e-4516-a4ec-cdf4f06b6c72",
   "metadata": {},
   "outputs": [
    {
     "data": {
      "text/plain": [
       "85"
      ]
     },
     "execution_count": 9,
     "metadata": {},
     "output_type": "execute_result"
    }
   ],
   "source": [
    "random.randint(-90,90)"
   ]
  },
  {
   "cell_type": "code",
   "execution_count": 11,
   "id": "cd82a444-0fe4-44f4-91af-600783c11af7",
   "metadata": {},
   "outputs": [
    {
     "data": {
      "text/plain": [
       "-34.68019398303558"
      ]
     },
     "execution_count": 11,
     "metadata": {},
     "output_type": "execute_result"
    }
   ],
   "source": [
    "random_number = random.randint(-90, 89) + random.random()\n",
    "random_number"
   ]
  },
  {
   "cell_type": "code",
   "execution_count": 24,
   "id": "470676fc-4dae-4b8b-947c-6e88cf14154d",
   "metadata": {},
   "outputs": [],
   "source": [
    "x = 1\n",
    "latitudes = []\n",
    "while x < 11:\n",
    "    random_lat = random.randint(-90, 89) + random.random()\n",
    "    latitudes.append(random_lat)\n",
    "    x += 1"
   ]
  },
  {
   "cell_type": "code",
   "execution_count": 25,
   "id": "260e7b4c-3455-4cef-af56-3615ec4ce907",
   "metadata": {},
   "outputs": [
    {
     "data": {
      "text/plain": [
       "61"
      ]
     },
     "execution_count": 25,
     "metadata": {},
     "output_type": "execute_result"
    }
   ],
   "source": [
    "random.randrange(-90, 90, step=1)"
   ]
  },
  {
   "cell_type": "code",
   "execution_count": 26,
   "id": "b87be7b0-521e-4a2a-87b5-6bf202ecece9",
   "metadata": {},
   "outputs": [
    {
     "data": {
      "text/plain": [
       "39"
      ]
     },
     "execution_count": 26,
     "metadata": {},
     "output_type": "execute_result"
    }
   ],
   "source": [
    "random.randrange(-90, 90, step=3)"
   ]
  },
  {
   "cell_type": "code",
   "execution_count": 27,
   "id": "ac609abf-31bd-4364-94e1-22542022dc37",
   "metadata": {},
   "outputs": [
    {
     "data": {
      "text/plain": [
       "16.567946678044294"
      ]
     },
     "execution_count": 27,
     "metadata": {},
     "output_type": "execute_result"
    }
   ],
   "source": [
    "random.uniform(-90, 90)"
   ]
  },
  {
   "cell_type": "code",
   "execution_count": 28,
   "id": "5bae3a6e-a7e1-4877-bcc8-36db024312bf",
   "metadata": {},
   "outputs": [],
   "source": [
    "# Import the NumPy module.\n",
    "import numpy as np"
   ]
  },
  {
   "cell_type": "code",
   "execution_count": 29,
   "id": "10dd8a46-6022-4516-9daf-c1f15e4ee19a",
   "metadata": {},
   "outputs": [
    {
     "data": {
      "text/plain": [
       "23.994727739963153"
      ]
     },
     "execution_count": 29,
     "metadata": {},
     "output_type": "execute_result"
    }
   ],
   "source": [
    "np.random.uniform(-90.000, 90.000)"
   ]
  },
  {
   "cell_type": "code",
   "execution_count": 30,
   "id": "f69f0f7c-dc3f-41aa-a92a-a9180ee89751",
   "metadata": {},
   "outputs": [
    {
     "data": {
      "text/plain": [
       "array([-13.90734909, -89.12869956,  60.81247944,  -1.94323666,\n",
       "       -28.1896528 , -50.32353699,   8.36525094, -50.92967641,\n",
       "         5.85491452, -75.34110567,  49.78741697,  86.21459651,\n",
       "        48.3198828 ,  67.44771646, -89.07328651,  48.10480319,\n",
       "       -37.38057467,  30.41424924, -41.77870418,  77.24467649,\n",
       "        41.98659021, -70.19520732,  68.62753482,  49.78970814,\n",
       "        47.09807939,  60.72405573,  49.92722518, -75.83603617,\n",
       "       -80.1691392 ,  88.82727777, -55.42632204,  83.64954941,\n",
       "        18.78761095,  53.30019526, -59.45522197,  35.26786354,\n",
       "       -52.03932081,  25.99975356,  10.59121292,  11.64783265,\n",
       "        15.21393175,   4.50888976,  64.6196116 , -15.26715267,\n",
       "       -11.40156615,   5.80658759, -49.48471   ,  70.52716674,\n",
       "        43.55667133,  44.66720511])"
      ]
     },
     "execution_count": 30,
     "metadata": {},
     "output_type": "execute_result"
    }
   ],
   "source": [
    "np.random.uniform(-90.000, 90.000, size= 50)"
   ]
  },
  {
   "cell_type": "code",
   "execution_count": 31,
   "id": "54bd18e9-e872-40d5-9976-e64d3973bbaf",
   "metadata": {},
   "outputs": [],
   "source": [
    "# Import timeit.\n",
    "import timeit"
   ]
  },
  {
   "cell_type": "code",
   "execution_count": 32,
   "id": "979cd2d4-6166-44be-8e24-5fc4dd5c81dc",
   "metadata": {},
   "outputs": [
    {
     "name": "stdout",
     "output_type": "stream",
     "text": [
      "17 µs ± 1.21 µs per loop (mean ± std. dev. of 7 runs, 100000 loops each)\n"
     ]
    }
   ],
   "source": [
    "%timeit np.random.uniform(-90.000, 90.000, size=1500)"
   ]
  },
  {
   "cell_type": "code",
   "execution_count": 33,
   "id": "8e201ddd-ed7c-4c16-97f5-59596d80a15c",
   "metadata": {},
   "outputs": [
    {
     "name": "stdout",
     "output_type": "stream",
     "text": [
      "1.3 ms ± 131 µs per loop (mean ± std. dev. of 7 runs, 1000 loops each)\n"
     ]
    }
   ],
   "source": [
    "def latitudes(size):\n",
    "    latitudes = []\n",
    "    x = 0\n",
    "    while x < (size):\n",
    "        random_lat = random.randint(-90, 90) + random.random()\n",
    "        latitudes.append(random_lat)\n",
    "        x += 1\n",
    "    return latitudes\n",
    "# Call the function with 1500.\n",
    "%timeit latitudes(1500)"
   ]
  },
  {
   "cell_type": "code",
   "execution_count": null,
   "id": "9b04af82-e4b5-4587-93d6-ca40dbc141a5",
   "metadata": {},
   "outputs": [],
   "source": []
  },
  {
   "cell_type": "code",
   "execution_count": null,
   "id": "b0cd0913-f15c-4018-a493-818840f0676f",
   "metadata": {},
   "outputs": [],
   "source": []
  }
 ],
 "metadata": {
  "kernelspec": {
   "display_name": "Python 3",
   "language": "python",
   "name": "python3"
  },
  "language_info": {
   "codemirror_mode": {
    "name": "ipython",
    "version": 3
   },
   "file_extension": ".py",
   "mimetype": "text/x-python",
   "name": "python",
   "nbconvert_exporter": "python",
   "pygments_lexer": "ipython3",
   "version": "3.8.8"
  }
 },
 "nbformat": 4,
 "nbformat_minor": 5
}
