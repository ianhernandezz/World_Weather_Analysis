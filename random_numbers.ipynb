{
 "cells": [
  {
   "cell_type": "code",
   "execution_count": 4,
   "id": "35b50983-c7ee-40d4-bb73-469b6f88ec46",
   "metadata": {},
   "outputs": [],
   "source": [
    "# Import the random module.\n",
    "import random"
   ]
  },
  {
   "cell_type": "code",
   "execution_count": 6,
   "id": "9420bf4c-f5b0-44be-bd97-dce653f377d9",
   "metadata": {},
   "outputs": [
    {
     "data": {
      "text/plain": [
       "0.3570753576911544"
      ]
     },
     "execution_count": 6,
     "metadata": {},
     "output_type": "execute_result"
    }
   ],
   "source": [
    "random.random()"
   ]
  },
  {
   "cell_type": "code",
   "execution_count": 9,
   "id": "694d54d4-4d0e-4516-a4ec-cdf4f06b6c72",
   "metadata": {},
   "outputs": [
    {
     "data": {
      "text/plain": [
       "85"
      ]
     },
     "execution_count": 9,
     "metadata": {},
     "output_type": "execute_result"
    }
   ],
   "source": [
    "random.randint(-90,90)"
   ]
  },
  {
   "cell_type": "code",
   "execution_count": 11,
   "id": "cd82a444-0fe4-44f4-91af-600783c11af7",
   "metadata": {},
   "outputs": [
    {
     "data": {
      "text/plain": [
       "-34.68019398303558"
      ]
     },
     "execution_count": 11,
     "metadata": {},
     "output_type": "execute_result"
    }
   ],
   "source": [
    "random_number = random.randint(-90, 89) + random.random()\n",
    "random_number"
   ]
  },
  {
   "cell_type": "code",
   "execution_count": 13,
   "id": "470676fc-4dae-4b8b-947c-6e88cf14154d",
   "metadata": {},
   "outputs": [],
   "source": [
    "x = 1\n",
    "latitudes = []\n",
    "while x < 11:\n",
    "    random_lat = random.randint(-90, 89) + random.random()\n",
    "    latitudes.append(random_lat)\n",
    "    x += 1"
   ]
  },
  {
   "cell_type": "code",
   "execution_count": 14,
   "id": "260e7b4c-3455-4cef-af56-3615ec4ce907",
   "metadata": {},
   "outputs": [
    {
     "data": {
      "text/plain": [
       "-38"
      ]
     },
     "execution_count": 14,
     "metadata": {},
     "output_type": "execute_result"
    }
   ],
   "source": [
    "random.randrange(-90, 90, step=1)"
   ]
  },
  {
   "cell_type": "code",
   "execution_count": 15,
   "id": "b87be7b0-521e-4a2a-87b5-6bf202ecece9",
   "metadata": {},
   "outputs": [
    {
     "data": {
      "text/plain": [
       "-18"
      ]
     },
     "execution_count": 15,
     "metadata": {},
     "output_type": "execute_result"
    }
   ],
   "source": [
    "random.randrange(-90, 90, step=3)"
   ]
  },
  {
   "cell_type": "code",
   "execution_count": 16,
   "id": "ac609abf-31bd-4364-94e1-22542022dc37",
   "metadata": {},
   "outputs": [
    {
     "data": {
      "text/plain": [
       "-70.28783373908264"
      ]
     },
     "execution_count": 16,
     "metadata": {},
     "output_type": "execute_result"
    }
   ],
   "source": [
    "random.uniform(-90, 90)"
   ]
  },
  {
   "cell_type": "code",
   "execution_count": 17,
   "id": "5bae3a6e-a7e1-4877-bcc8-36db024312bf",
   "metadata": {},
   "outputs": [],
   "source": [
    "# Import the NumPy module.\n",
    "import numpy as np"
   ]
  },
  {
   "cell_type": "code",
   "execution_count": 18,
   "id": "10dd8a46-6022-4516-9daf-c1f15e4ee19a",
   "metadata": {},
   "outputs": [
    {
     "data": {
      "text/plain": [
       "68.34240033725791"
      ]
     },
     "execution_count": 18,
     "metadata": {},
     "output_type": "execute_result"
    }
   ],
   "source": [
    "np.random.uniform(-90.000, 90.000)"
   ]
  },
  {
   "cell_type": "code",
   "execution_count": 19,
   "id": "f69f0f7c-dc3f-41aa-a92a-a9180ee89751",
   "metadata": {},
   "outputs": [
    {
     "data": {
      "text/plain": [
       "array([ 28.81378369,  42.53468725, -39.04288421, -86.36470289,\n",
       "        87.39768914, -52.06369363, -62.54325949, -44.34116929,\n",
       "        68.18014351,  86.24805885,  48.00354952,  88.99221688,\n",
       "        50.27851964, -25.13505129,  67.82877947,  66.22470791,\n",
       "       -30.65013962, -19.4116158 ,  79.89030507,   2.63512347,\n",
       "       -71.00675269, -56.41029638,  66.36839884, -89.13345092,\n",
       "        -3.22230567,  44.06421089, -69.06731795, -12.23745922,\n",
       "       -10.62231015,  51.35131486, -25.93262515,  43.02713652,\n",
       "       -17.22411824, -47.87370241,  21.08307892, -81.08239845,\n",
       "       -42.61221116,  34.13211253, -86.64742086,   1.30499809,\n",
       "       -25.25113455,  64.56145054,  12.30995313,   6.60009981,\n",
       "        47.98131736, -12.32332034, -64.5992075 , -85.61457771,\n",
       "        43.10890684,  28.30983122])"
      ]
     },
     "execution_count": 19,
     "metadata": {},
     "output_type": "execute_result"
    }
   ],
   "source": [
    "np.random.uniform(-90.000, 90.000, size= 50)"
   ]
  },
  {
   "cell_type": "code",
   "execution_count": 20,
   "id": "54bd18e9-e872-40d5-9976-e64d3973bbaf",
   "metadata": {},
   "outputs": [],
   "source": [
    "# Import timeit.\n",
    "import timeit"
   ]
  },
  {
   "cell_type": "code",
   "execution_count": 22,
   "id": "979cd2d4-6166-44be-8e24-5fc4dd5c81dc",
   "metadata": {},
   "outputs": [
    {
     "name": "stdout",
     "output_type": "stream",
     "text": [
      "16 µs ± 22.2 ns per loop (mean ± std. dev. of 7 runs, 10000 loops each)\n"
     ]
    }
   ],
   "source": [
    "%timeit np.random.uniform(-90.000, 90.000, size=1500)"
   ]
  },
  {
   "cell_type": "code",
   "execution_count": 23,
   "id": "8e201ddd-ed7c-4c16-97f5-59596d80a15c",
   "metadata": {},
   "outputs": [
    {
     "name": "stdout",
     "output_type": "stream",
     "text": [
      "1.18 ms ± 9.43 µs per loop (mean ± std. dev. of 7 runs, 100 loops each)\n"
     ]
    }
   ],
   "source": [
    "def latitudes(size):\n",
    "    latitudes = []\n",
    "    x = 0\n",
    "    while x < (size):\n",
    "        random_lat = random.randint(-90, 90) + random.random()\n",
    "        latitudes.append(random_lat)\n",
    "        x += 1\n",
    "    return latitudes\n",
    "# Call the function with 1500.\n",
    "%timeit latitudes(1500)"
   ]
  },
  {
   "cell_type": "code",
   "execution_count": null,
   "id": "9b04af82-e4b5-4587-93d6-ca40dbc141a5",
   "metadata": {},
   "outputs": [],
   "source": []
  }
 ],
 "metadata": {
  "kernelspec": {
   "display_name": "Python 3",
   "language": "python",
   "name": "python3"
  },
  "language_info": {
   "codemirror_mode": {
    "name": "ipython",
    "version": 3
   },
   "file_extension": ".py",
   "mimetype": "text/x-python",
   "name": "python",
   "nbconvert_exporter": "python",
   "pygments_lexer": "ipython3",
   "version": "3.8.8"
  }
 },
 "nbformat": 4,
 "nbformat_minor": 5
}
